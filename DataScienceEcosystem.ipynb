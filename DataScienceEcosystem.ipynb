{
 "cells": [
  {
   "cell_type": "markdown",
   "id": "794e7f71-145f-4fa6-ac88-55612fb440b6",
   "metadata": {},
   "source": [
    "<h1>Data Science Tools and Ecosystem</h1>"
   ]
  },
  {
   "cell_type": "markdown",
   "id": "3d2ed38b-8f28-4387-842b-44142ac31472",
   "metadata": {},
   "source": [
    "In this notebook, Data Science Tools and Ecosystem are summarized."
   ]
  },
  {
   "cell_type": "markdown",
   "id": "cf8fc038-5cec-427e-a4c6-e619cb72ca9a",
   "metadata": {},
   "source": [
    "# Overview of Popular Data Science Languages\n",
    "\n",
    "Some of the popular languages that Data Scientists use are:\n",
    "\n",
    "1. **Python**: Widely used for its extensive libraries and ease of use in data manipulation and analysis.\n",
    "2. **R**: Preferred for statistical analysis and visualizations.\n",
    "3. **SQL**: Essential for managing and querying databases.\n",
    "\n",
    "These languages are fundamental tools for data science, each offering unique strengths and capabilities.\n"
   ]
  },
  {
   "cell_type": "markdown",
   "id": "f9239fa3-3caa-42c4-996c-3a92e8536b2b",
   "metadata": {},
   "source": [
    "# Overview of Data Science Libraries\n",
    "\n",
    "Some of the commonly used libraries used by Data Scientists include:\n",
    "\n",
    "1. **Pandas**: A powerful library for data manipulation and analysis, providing data structures and functions needed to work with structured data.\n",
    "2. **NumPy**: Essential for numerical computations, offering support for arrays, matrices, and mathematical functions.\n",
    "3. **Scikit-learn**: A library for machine learning, providing tools for data mining, data analysis, and machine learning algorithms.\n",
    "\n",
    "These libraries are integral to performing various tasks in data science, from data wrangling to building predictive models.\n"
   ]
  },
  {
   "cell_type": "markdown",
   "id": "6d0eb625-1aad-4e25-84b4-e1b9a308c3c7",
   "metadata": {},
   "source": [
    "# Data Science Tools\n",
    "\n",
    "| Data Science Tools |\n",
    "|--------------------|\n",
    "| Jupyter Notebook   |\n",
    "| RStudio            |\n",
    "| Google Colab       |\n"
   ]
  },
  {
   "cell_type": "markdown",
   "id": "0f9c2bec-b129-486e-9a04-b0fd2d89f1c0",
   "metadata": {},
   "source": [
    "# Introduction to Arithmetic Expressions\n",
    "\n",
    "### Below are a few examples of evaluating arithmetic expressions in Python\n",
    "\n",
    "In Python, you can perform various arithmetic operations using simple expressions. For example:\n",
    "\n",
    "- Addition: `a + b`\n",
    "- Subtraction: `a - b`\n",
    "- Multiplication: `a * b`\n",
    "- Division: `a / b`\n",
    "- Modulus: `a % b`\n",
    "- Exponentiation: `a ** b`\n",
    "\n",
    "These operations allow you to handle numerical data and perform calculations effectively.\n"
   ]
  },
  {
   "cell_type": "code",
   "execution_count": 1,
   "id": "4b1b2047-c2b1-4bc8-ba72-60a78881ad22",
   "metadata": {
    "tags": []
   },
   "outputs": [
    {
     "data": {
      "text/plain": [
       "17"
      ]
     },
     "execution_count": 1,
     "metadata": {},
     "output_type": "execute_result"
    }
   ],
   "source": [
    "result = (3 * 4) + 5\n",
    "result"
   ]
  },
  {
   "cell_type": "code",
   "execution_count": 2,
   "id": "705f6a76-a3f6-476c-bf19-8c52c87bc814",
   "metadata": {
    "tags": []
   },
   "outputs": [
    {
     "data": {
      "text/plain": [
       "3.3333333333333335"
      ]
     },
     "execution_count": 2,
     "metadata": {},
     "output_type": "execute_result"
    }
   ],
   "source": [
    "minutes = 200\n",
    "hours = minutes / 60\n",
    "hours"
   ]
  },
  {
   "cell_type": "markdown",
   "id": "ea8e08a2-0f0d-44b0-b6ba-69840cf0d6a7",
   "metadata": {},
   "source": [
    "**Objectives:**\n",
    "\n",
    "- List popular languages for Data Science.\n",
    "- Identify key libraries used in Data Science.\n",
    "- Demonstrate how to perform basic arithmetic operations in Python.\n",
    "- Convert units of time from minutes to hours.\n",
    "- Understand the purpose and use of various Data Science tools.\n"
   ]
  },
  {
   "cell_type": "markdown",
   "id": "ef450302-c110-4f53-a080-2508117fa839",
   "metadata": {},
   "source": [
    "## Author\n",
    "\n",
    "S.ABHISHEK\n"
   ]
  },
  {
   "cell_type": "code",
   "execution_count": null,
   "id": "d66b356f-665f-4c57-91aa-3509e8870d9e",
   "metadata": {},
   "outputs": [],
   "source": []
  }
 ],
 "metadata": {
  "kernelspec": {
   "display_name": "Python",
   "language": "python",
   "name": "conda-env-python-py"
  },
  "language_info": {
   "codemirror_mode": {
    "name": "ipython",
    "version": 3
   },
   "file_extension": ".py",
   "mimetype": "text/x-python",
   "name": "python",
   "nbconvert_exporter": "python",
   "pygments_lexer": "ipython3",
   "version": "3.7.12"
  }
 },
 "nbformat": 4,
 "nbformat_minor": 5
}
